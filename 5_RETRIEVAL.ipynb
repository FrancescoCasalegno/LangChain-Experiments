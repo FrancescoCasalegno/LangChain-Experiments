{
 "cells": [
  {
   "cell_type": "markdown",
   "metadata": {},
   "source": [
    "# Retrieval\n",
    "\n",
    "- Many LLM applications require user-specific data outside of the model training set.\n",
    "- E.g. ask a question on some documents that are private to the company.\n",
    "- How do we do? Two simples approaches one could think of could be:\n",
    "  - Option 1: Fine-tune the LLM on the new data.\n",
    "  - Option 2: Pass the internal documents as part of the prompt.\n",
    "- However, both of these approaches have drawbacks:\n",
    "  - Option 1\n",
    "    - Fine-tuning is expensive (both in terms of time and money)\n",
    "    - What if we want to add more documents later?\n",
    "    - In general, remember: A more useful way to think of LLMs is to think of them as **reasoning engines**, not assume they know everything!\n",
    "  - Option 2\n",
    "    - Now we are on the right track!\n",
    "    - But what if the concatenation of all documents is too long for the context length of the LLM?\n",
    "    - And even if it fits in the context length, maybe it is not the most efficient way to do it (we pay per tokens: USD 0.03/1k prompt tokens + USD 0.06/1k sampled tokens).\n",
    "- So the idea is to apply **retrieval augmented generation** (RAG).\n",
    "  - Fundamentally, same architecture of classical Information Retrieval (IR) systems.\n",
    "  - But Reader is replaced by LLM: like Option 2, but prompt is just set of relevant paragraphs.\n",
    "- Reminder, the fundamental structure of an IR system is:\n",
    "  - **Indexing**: Create an index of the documents/paragraphs. Historically, using `FULLTEXT INDEX` in MySQL, then more advanced tools like [Elasticsearch](https://www.elastic.co/), and more recently **Dense Passage Retrieval** i.e. Deep Learning (Sentence Transformers, GPT embeddings, ...) based vector embeddings.\n",
    "  - **Retriever**: Given a new query, retrieve the most relevant documents/paragraphs. As we now use vector embeddings, this is done by computing the cosine similarity between the query embedding and all the precomputed document embeddings (runtime is typically very fast, as approximate neighbor search with clustering, dimensionality reduction, and other techniques can be used).\n",
    "  - **Re-Ranker**: The goal of Retrieval is to very quickly fetch from a huge number of documents, a handful of potentially relevant documents: so speed is key, not accuracy. The goal of the Re-Ranker is to very accurately re-rank the documents. This can be done e.g. with a Cross-Encoder, that takes as input the query and the document, and outputs a score. Why not directly use the Cross-Encoder for Retrieval? Because it is too slow! Why is Bi-Encoder so fast? Because only 1 embedding is computed per query, all the document embeddings are pre-computed!\n",
    "  - **Reader**: Given the top-k documents, the Reader will read them and extract the answer. This means that we have a context = top-k documents, and we can use that as the prompt (with the question) for the Reader. Historically, the Reader was e.g. a BERT model fine-tuned on SQuAD v2. Now, we can use a LLM, and the prompt is the concatenation of the question and the top-k documents.\n",
    "- Even if it doesn't necessarily involve LLMs (e.g. you can use Sentence Transformers embeddings instead of GPT embeddings), the Indexing is key to the success of the application. In particular fast retrieval is key when the number of documents grows huge. Hence, vector databases have become very popular!\n",
    "  - Pinecone\n",
    "  - Weaviate\n",
    "  - Milvus\n",
    "  - Qdrant\n",
    "  - ...\n",
    "\n",
    "- How does LangChain fit in these picture? It provides implementation for all the main components!\n",
    "  - **Document Loaders** — Load documents from any source (HTML, PDF, source code, ...) and location (local, S3, websites, ...).\n",
    "  - **Document Transformers** — Split documents into smaller chunks, e.g. paragraphs, sentences, code blocks, ...\n",
    "  - **Text Embedding Models** — Create embeddings for the text chunks, e.g. Sentence Transformers, GPT, ...\n",
    "  - **Vector Stores** — Store the embeddings in a vector database, e.g. Pinecone, Weaviate, Milvus, Qdrant, ...\n",
    "  - **Retrievers** — Retrieve the most relevant documents given a query, e.g. from Simple Semantic Search to more advanced algorithms like Parent Document Retriever, Self Query Retriever, Ensemble Retriever, ..."
   ]
  },
  {
   "cell_type": "code",
   "execution_count": 1,
   "metadata": {},
   "outputs": [],
   "source": [
    "from dotenv import load_dotenv\n",
    "import os\n",
    "from pprint import pprint"
   ]
  },
  {
   "cell_type": "code",
   "execution_count": 2,
   "metadata": {},
   "outputs": [],
   "source": [
    "# 1. Copy .env.example file as .env: `cp .env.example .env`\n",
    "# 2. Open .env file and set all the env variables\n",
    "load_dotenv(\".env\")\n",
    "OPENAI_KEY = os.getenv(\"OPENAI_KEY\")\n",
    "assert OPENAI_KEY, \"Please set your OPENAI_KEY environment variable.\""
   ]
  },
  {
   "cell_type": "code",
   "execution_count": 3,
   "metadata": {},
   "outputs": [],
   "source": [
    "from langchain.chains import RetrievalQA\n",
    "from langchain.chat_models import ChatOpenAI\n",
    "from langchain.document_loaders import TextLoader\n",
    "from langchain.vectorstores import FAISS\n",
    "from langchain.indexes import VectorstoreIndexCreator\n",
    "from langchain.embeddings import OpenAIEmbeddings"
   ]
  },
  {
   "cell_type": "markdown",
   "metadata": {},
   "source": [
    "## Querying Textual Documents with Vector Stores\n",
    "\n",
    "- This is the most common application.\n",
    "- We have a question, and we want to find the answer based on a number of textual documents."
   ]
  },
  {
   "cell_type": "code",
   "execution_count": 4,
   "metadata": {},
   "outputs": [],
   "source": [
    "# 1. Document Loader\n",
    "file_path = \"data/state_of_the_union_2023.txt\"\n",
    "document_loader = TextLoader(file_path=file_path)"
   ]
  },
  {
   "cell_type": "code",
   "execution_count": 5,
   "metadata": {},
   "outputs": [],
   "source": [
    "# 2. Embedding Model\n",
    "embedding_model = OpenAIEmbeddings(openai_api_key=OPENAI_KEY, model=\"text-embedding-ada-002\")"
   ]
  },
  {
   "cell_type": "code",
   "execution_count": 6,
   "metadata": {},
   "outputs": [],
   "source": [
    "# 3. Index\n",
    "index = VectorstoreIndexCreator(\n",
    "    vectorstore_cls=FAISS,\n",
    "    embedding=embedding_model,\n",
    ").from_loaders([document_loader])"
   ]
  },
  {
   "cell_type": "code",
   "execution_count": 7,
   "metadata": {},
   "outputs": [],
   "source": [
    "# 4. Reader Model\n",
    "chat_model = ChatOpenAI(\n",
    "    openai_api_key=OPENAI_KEY,\n",
    "    model_name=\"gpt-4\",\n",
    "    temperature=0,\n",
    "    model_kwargs={\"top_p\":1},\n",
    ")"
   ]
  },
  {
   "cell_type": "code",
   "execution_count": 8,
   "metadata": {},
   "outputs": [
    {
     "name": "stdout",
     "output_type": "stream",
     "text": [
      "- Putin's invasion was a test for America and the world, challenging principles of sovereignty and freedom from tyranny.\n",
      "- America, along with a global coalition, stood against Putin's aggression and in support of the Ukrainian people.\n",
      "- The President reaffirmed America's commitment to stand with Ukraine for as long as necessary.\n",
      "- The President mentioned that he spoke from the same chamber a year ago, just days after Putin unleashed a brutal war against Ukraine, likening it to the death and destruction Europe suffered in World War II.\n"
     ]
    }
   ],
   "source": [
    "response = index.query(\"Summarize in bullet points what the President said about Putin.\", llm=chat_model)\n",
    "print(response)"
   ]
  },
  {
   "cell_type": "markdown",
   "metadata": {},
   "source": [
    "## Querying a Graph with NetworkX\n",
    "\n",
    "- Sometimes our data is in a graph format, and we want to query it.\n",
    "- We can use NetworkX to do this."
   ]
  },
  {
   "cell_type": "code",
   "execution_count": 9,
   "metadata": {},
   "outputs": [
    {
     "name": "stdout",
     "output_type": "stream",
     "text": [
      "\n",
      "\n",
      "\u001b[1m> Entering new GraphQAChain chain...\u001b[0m\n",
      "Entities Extracted:\n",
      "\u001b[32;1m\u001b[1;3mIrene Isaac\u001b[0m\n",
      "Full Context:\n",
      "\u001b[32;1m\u001b[1;3mIrene Isaac works_at Ford\n",
      "Irene Isaac lives_in GreenVillage\u001b[0m\n",
      "\n",
      "\u001b[1m> Finished chain.\u001b[0m\n"
     ]
    },
    {
     "data": {
      "text/plain": [
       "'Irene Isaac works at Ford.'"
      ]
     },
     "execution_count": 9,
     "metadata": {},
     "output_type": "execute_result"
    }
   ],
   "source": [
    "from langchain.chains import GraphQAChain\n",
    "from langchain.indexes.graph import NetworkxEntityGraph\n",
    "\n",
    "file_path = \"./data/people_and_jobs_graph.gml\"\n",
    "graph = NetworkxEntityGraph.from_gml(file_path)\n",
    "\n",
    "chain = GraphQAChain.from_llm(llm=chat_model, graph=graph, verbose=True)\n",
    "\n",
    "chain.run(\"Where does Irene Isaac work?\")\n"
   ]
  },
  {
   "cell_type": "code",
   "execution_count": 10,
   "metadata": {},
   "outputs": [
    {
     "name": "stdout",
     "output_type": "stream",
     "text": [
      "\n",
      "\n",
      "\u001b[1m> Entering new GraphQAChain chain...\u001b[0m\n",
      "Entities Extracted:\n",
      "\u001b[32;1m\u001b[1;3mGreenVillage\u001b[0m\n",
      "Full Context:\n",
      "\u001b[32;1m\u001b[1;3mGreenVillage is_in Illinois\u001b[0m\n",
      "\n",
      "\u001b[1m> Finished chain.\u001b[0m\n"
     ]
    },
    {
     "data": {
      "text/plain": [
       "'GreenVillage is located in Illinois.'"
      ]
     },
     "execution_count": 10,
     "metadata": {},
     "output_type": "execute_result"
    }
   ],
   "source": [
    "chain.run(\"Where is GreenVillage located?\")"
   ]
  },
  {
   "cell_type": "code",
   "execution_count": 11,
   "metadata": {},
   "outputs": [
    {
     "name": "stdout",
     "output_type": "stream",
     "text": [
      "\n",
      "\n",
      "\u001b[1m> Entering new GraphQAChain chain...\u001b[0m\n",
      "Entities Extracted:\n",
      "\u001b[32;1m\u001b[1;3mIrene Isaac\u001b[0m\n",
      "Full Context:\n",
      "\u001b[32;1m\u001b[1;3mIrene Isaac works_at Ford\n",
      "Irene Isaac lives_in GreenVillage\u001b[0m\n",
      "\n",
      "\u001b[1m> Finished chain.\u001b[0m\n"
     ]
    },
    {
     "data": {
      "text/plain": [
       "\"The text doesn't provide information on the location of the company where Irene Isaac works.\""
      ]
     },
     "execution_count": 11,
     "metadata": {},
     "output_type": "execute_result"
    }
   ],
   "source": [
    "chain.run(\"Where is the company where Irene Isaac works located?\")"
   ]
  },
  {
   "cell_type": "markdown",
   "metadata": {},
   "source": [
    "## Querying a Graph with Neo4j\n",
    "\n",
    "- Sometimes our data is in a graph format, and we want to query it.\n",
    "- NetworkX is great, but it is not scalable.\n",
    "- Neo4j is a very popular graph database, and we can use it to do this.\n",
    "  \n",
    "**NOTE**\n",
    "- To run this part of the notebook you need to have a Neo4j database running. Please see \n",
    "  the [`README.md`](README.md) file for instructions on how to do this."
   ]
  },
  {
   "cell_type": "code",
   "execution_count": 12,
   "metadata": {},
   "outputs": [],
   "source": [
    "from langchain.chains import GraphCypherQAChain\n",
    "from langchain.graphs import Neo4jGraph"
   ]
  },
  {
   "cell_type": "code",
   "execution_count": 13,
   "metadata": {},
   "outputs": [],
   "source": [
    "graph = Neo4jGraph(\n",
    "    url=\"bolt://localhost:7687\", username=\"neo4j\", password=\"pleaseletmein\"\n",
    ")"
   ]
  },
  {
   "cell_type": "code",
   "execution_count": 14,
   "metadata": {},
   "outputs": [
    {
     "data": {
      "text/plain": [
       "[{\"'Data imported'\": 'Data imported'}]"
      ]
     },
     "execution_count": 14,
     "metadata": {},
     "output_type": "execute_result"
    }
   ],
   "source": [
    "graph.query(\n",
    "    \"\"\"\n",
    "UNWIND [\n",
    "  [\"Alice Abbott\", \"is_friends_with\", \"Bob Brown\"],\n",
    "  [\"Bob Brown\", \"is_friends_with\", \"Carol Carter\"],\n",
    "  [\"Carol Carter\", \"is_friends_with\", \"Dave Davidson\"],\n",
    "  [\"Alice Abbott\", \"works_at\", \"Google\"],\n",
    "  [\"Bob Brown\", \"works_at\", \"JPMorgan_Chase\"],\n",
    "  [\"Carol Carter\", \"works_at\", \"Pfizer\"],\n",
    "  [\"Dave Davidson\", \"works_at\", \"Harvard_University\"],\n",
    "  [\"Google\", \"is_a\", \"Company\"],\n",
    "  [\"JPMorgan_Chase\", \"is_a\", \"Company\"],\n",
    "  [\"Pfizer\", \"is_a\", \"Company\"],\n",
    "  [\"Harvard_University\", \"is_a\", \"Educational_Institution\"],\n",
    "  [\"Alice Abbott\", \"lives_in\", \"Palo_Alto\"],\n",
    "  [\"Bob Brown\", \"lives_in\", \"New_York_City\"],\n",
    "  [\"Carol Carter\", \"lives_in\", \"Philadelphia\"],\n",
    "  [\"Dave Davidson\", \"lives_in\", \"Boston\"],\n",
    "  [\"Google\", \"located_in\", \"Mountain_View\"],\n",
    "  [\"Pfizer\", \"located_in\", \"New_York_City\"],\n",
    "  [\"JPMorgan_Chase\", \"located_in\", \"New_York_City\"],\n",
    "  [\"Harvard_University\", \"located_in\", \"Cambridge\"],\n",
    "  [\"Palo_Alto\", \"is_in\", \"California\"],\n",
    "  [\"New_York_City\", \"is_in\", \"New_York\"],\n",
    "  [\"Philadelphia\", \"is_in\", \"Pennsylvania\"],\n",
    "  [\"Boston\", \"is_in\", \"Massachusetts\"],\n",
    "  [\"Mountain_View\", \"is_in\", \"California\"],\n",
    "  [\"Cambridge\", \"is_in\", \"Massachusetts\"],\n",
    "  [\"California\", \"is_in\", \"USA\"],\n",
    "  [\"New_York\", \"is_in\", \"USA\"],\n",
    "  [\"Pennsylvania\", \"is_in\", \"USA\"],\n",
    "  [\"Massachusetts\", \"is_in\", \"USA\"],\n",
    "  [\"Google\", \"founded_by\", \"Larry_Page\"],\n",
    "  [\"JPMorgan_Chase\", \"founded_by\", \"J._Pierpont_Morgan\"],\n",
    "  [\"Pfizer\", \"founded_by\", \"Charles_Pfizer\"],\n",
    "  [\"Harvard_University\", \"founded_by\", \"John_Harvard\"]\n",
    "] AS triples\n",
    "MERGE (subj:Entity {name: triples[0]})\n",
    "MERGE (obj:Entity {name: triples[2]})\n",
    "WITH subj, obj, triples[1] AS relationship\n",
    "FOREACH (_ IN CASE WHEN relationship = \"is_friends_with\" THEN [1] ELSE [] END |\n",
    "  MERGE (subj)-[:IS_FRIENDS_WITH]->(obj)\n",
    ")\n",
    "FOREACH (_ IN CASE WHEN relationship = \"works_at\" THEN [1] ELSE [] END |\n",
    "  SET subj:Person, obj:Company\n",
    "  MERGE (subj)-[:WORKS_AT]->(obj)\n",
    ")\n",
    "FOREACH (_ IN CASE WHEN relationship = \"is_a\" THEN [1] ELSE [] END |\n",
    "  SET obj:Category\n",
    "  MERGE (subj)-[:IS_A]->(obj)\n",
    ")\n",
    "FOREACH (_ IN CASE WHEN relationship = \"lives_in\" OR relationship = \"located_in\" THEN [1] ELSE [] END |\n",
    "  SET obj:Location\n",
    "  MERGE (subj)-[:LOCATED_IN]->(obj)\n",
    ")\n",
    "FOREACH (_ IN CASE WHEN relationship = \"is_in\" THEN [1] ELSE [] END |\n",
    "  SET subj:Location, obj:Location\n",
    "  MERGE (subj)-[:IS_IN]->(obj)\n",
    ")\n",
    "FOREACH (_ IN CASE WHEN relationship = \"founded_by\" THEN [1] ELSE [] END |\n",
    "  SET obj:Person\n",
    "  MERGE (subj)-[:FOUNDED_BY]->(obj)\n",
    ")\n",
    "RETURN DISTINCT 'Data imported';\n",
    "\n",
    "\"\"\"\n",
    ")"
   ]
  },
  {
   "cell_type": "code",
   "execution_count": 15,
   "metadata": {},
   "outputs": [],
   "source": [
    "graph.refresh_schema()"
   ]
  },
  {
   "cell_type": "code",
   "execution_count": 16,
   "metadata": {},
   "outputs": [
    {
     "name": "stdout",
     "output_type": "stream",
     "text": [
      "\n",
      "        Node properties are the following:\n",
      "        [{'labels': 'Entity', 'properties': [{'property': 'name', 'type': 'STRING'}]}, {'labels': 'Person', 'properties': [{'property': 'name', 'type': 'STRING'}]}, {'labels': 'Company', 'properties': [{'property': 'name', 'type': 'STRING'}]}, {'labels': 'Category', 'properties': [{'property': 'name', 'type': 'STRING'}]}, {'labels': 'Location', 'properties': [{'property': 'name', 'type': 'STRING'}]}]\n",
      "        Relationship properties are the following:\n",
      "        []\n",
      "        The relationships are the following:\n",
      "        ['(:Entity)-[:LOCATED_IN]->(:Entity)', '(:Entity)-[:LOCATED_IN]->(:Location)', '(:Entity)-[:IS_FRIENDS_WITH]->(:Entity)', '(:Entity)-[:IS_FRIENDS_WITH]->(:Person)', '(:Entity)-[:WORKS_AT]->(:Entity)', '(:Entity)-[:WORKS_AT]->(:Company)', '(:Entity)-[:FOUNDED_BY]->(:Entity)', '(:Entity)-[:FOUNDED_BY]->(:Person)', '(:Entity)-[:IS_A]->(:Entity)', '(:Entity)-[:IS_A]->(:Category)', '(:Entity)-[:IS_IN]->(:Entity)', '(:Entity)-[:IS_IN]->(:Location)', '(:Person)-[:LOCATED_IN]->(:Entity)', '(:Person)-[:LOCATED_IN]->(:Location)', '(:Person)-[:IS_FRIENDS_WITH]->(:Entity)', '(:Person)-[:IS_FRIENDS_WITH]->(:Person)', '(:Person)-[:WORKS_AT]->(:Entity)', '(:Person)-[:WORKS_AT]->(:Company)', '(:Company)-[:FOUNDED_BY]->(:Entity)', '(:Company)-[:FOUNDED_BY]->(:Person)', '(:Company)-[:IS_A]->(:Entity)', '(:Company)-[:IS_A]->(:Category)', '(:Company)-[:LOCATED_IN]->(:Entity)', '(:Company)-[:LOCATED_IN]->(:Location)', '(:Location)-[:IS_IN]->(:Entity)', '(:Location)-[:IS_IN]->(:Location)']\n",
      "        \n"
     ]
    }
   ],
   "source": [
    "print(graph.schema)"
   ]
  },
  {
   "cell_type": "code",
   "execution_count": 17,
   "metadata": {},
   "outputs": [],
   "source": [
    "chain = GraphCypherQAChain.from_llm(\n",
    "    llm=chat_model, graph=graph, verbose=True\n",
    ")"
   ]
  },
  {
   "cell_type": "code",
   "execution_count": 18,
   "metadata": {},
   "outputs": [
    {
     "name": "stdout",
     "output_type": "stream",
     "text": [
      "\n",
      "\n",
      "\u001b[1m> Entering new GraphCypherQAChain chain...\u001b[0m\n",
      "Generated Cypher:\n",
      "\u001b[32;1m\u001b[1;3mMATCH (p:Person {name: 'Alice Abbott'})-[:LOCATED_IN]->(l:Location)-[:IS_IN]->(s:Location) RETURN s.name\u001b[0m\n",
      "Full Context:\n",
      "\u001b[32;1m\u001b[1;3m[{'s.name': 'California'}]\u001b[0m\n",
      "\n",
      "\u001b[1m> Finished chain.\u001b[0m\n"
     ]
    },
    {
     "data": {
      "text/plain": [
       "'Alice Abbott lives in the state of California.'"
      ]
     },
     "execution_count": 18,
     "metadata": {},
     "output_type": "execute_result"
    }
   ],
   "source": [
    "chain.run(\"In which state is the city where Alice Abbott lives?\")"
   ]
  }
 ],
 "metadata": {
  "kernelspec": {
   "display_name": "tmp-venv",
   "language": "python",
   "name": "python3"
  },
  "language_info": {
   "codemirror_mode": {
    "name": "ipython",
    "version": 3
   },
   "file_extension": ".py",
   "mimetype": "text/x-python",
   "name": "python",
   "nbconvert_exporter": "python",
   "pygments_lexer": "ipython3",
   "version": "3.11.1"
  },
  "orig_nbformat": 4
 },
 "nbformat": 4,
 "nbformat_minor": 2
}
