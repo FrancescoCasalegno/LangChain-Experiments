{
 "cells": [
  {
   "cell_type": "markdown",
   "metadata": {},
   "source": [
    "# Agents\n",
    "\n",
    "- People sometimes have unrealistic expectations for what a LLM can do.\n",
    "  - Complex arithmetic operations with numbers with many digits\n",
    "  - Solving more complex equations, integrals, differential equations\n",
    "  - Retrieving very specific information e.g. what is the 7th country in Africa by GDP?\n",
    "- But a more useful way to think of LLMs is to think of them as **reasoning engines**.\n",
    "- So they might use some background knowledge to which they were exposed at training time, but we shouldn't rely 100% on them.\n",
    "- On the other hand, for a variety of tasks there are great specific tools that we can use!\n",
    "- **Agents** combine LLMs with different tools that can be used to solve your tasks: internet browsers, symbolic engines, knowledge bases, etc.\n",
    "- LangChain comes with a huge list of Tools you can use to build your own Agents! Some examples:\n",
    "  - **Shell (bash)** — give access to a shell in a safe environment\n",
    "  - **Bing Search / DuckDuckGo Search / Google Search /** ... — Search the web using different search engines\n",
    "  - **ChatGPT Plugins** — use ChatGPT plugins to interact with the world\n",
    "  - **Dall-E Image Generator** — generate images from a prompt synthesized using an OpenAI LLM\n",
    "  - **PubMed** — Search the PubMed database for biomedical literature\n",
    "  - **Wikipedia** — Search Wikipedia for articles, media, and other contents\n",
    "  - **Wolfram Alpha** — Use Wolfram Alpha to solve equations, ... or access knowledge graph information\n",
    "  - **Yahoo Finance** — Get stock information from Yahoo Finance"
   ]
  },
  {
   "cell_type": "code",
   "execution_count": 1,
   "metadata": {},
   "outputs": [],
   "source": [
    "import os\n",
    "from pprint import pprint\n",
    "from dotenv import load_dotenv"
   ]
  },
  {
   "cell_type": "code",
   "execution_count": 2,
   "metadata": {},
   "outputs": [],
   "source": [
    "# 1. Copy .env.example file as .env: `cp .env.example .env`\n",
    "# 2. Open .env file and set all the env variables\n",
    "load_dotenv(\".env\")\n",
    "OPENAI_KEY = os.getenv(\"OPENAI_KEY\")\n",
    "assert OPENAI_KEY, \"Please set your OPENAI_KEY environment variable.\""
   ]
  },
  {
   "cell_type": "code",
   "execution_count": 3,
   "metadata": {},
   "outputs": [],
   "source": [
    "from langchain.chat_models import ChatOpenAI\n",
    "from langchain.agents import load_tools, initialize_agent\n",
    "from langchain.agents import AgentType\n",
    "from langchain.tools.yahoo_finance_news import YahooFinanceNewsTool\n"
   ]
  },
  {
   "cell_type": "code",
   "execution_count": 4,
   "metadata": {},
   "outputs": [],
   "source": [
    "# The Chat Model\n",
    "chat_model = ChatOpenAI(\n",
    "    openai_api_key=OPENAI_KEY,\n",
    "    model_name=\"gpt-4\",\n",
    "    temperature=0,\n",
    "    model_kwargs={\"top_p\":1},\n",
    ")"
   ]
  },
  {
   "cell_type": "code",
   "execution_count": 5,
   "metadata": {},
   "outputs": [],
   "source": [
    "tools = load_tools([\"llm-math\", \"wikipedia\"], llm=chat_model) + [YahooFinanceNewsTool()]"
   ]
  },
  {
   "cell_type": "code",
   "execution_count": 6,
   "metadata": {},
   "outputs": [],
   "source": [
    "agent= initialize_agent(\n",
    "    tools, \n",
    "    chat_model, \n",
    "    agent=AgentType.CHAT_ZERO_SHOT_REACT_DESCRIPTION,\n",
    "    handle_parsing_errors=True,\n",
    "    verbose = True)"
   ]
  },
  {
   "cell_type": "code",
   "execution_count": 7,
   "metadata": {},
   "outputs": [
    {
     "name": "stdout",
     "output_type": "stream",
     "text": [
      "\n",
      "\n",
      "\u001b[1m> Entering new AgentExecutor chain...\u001b[0m\n",
      "\u001b[32;1m\u001b[1;3mThought: This is a mathematical calculation. I can use the Calculator tool to solve it.\n",
      "Action:\n",
      "```\n",
      "{\n",
      "  \"action\": \"Calculator\",\n",
      "  \"action_input\": \"(3 * 334 / 17 + 9) ** 2\"\n",
      "}\n",
      "```\u001b[0m\n",
      "Observation: \u001b[36;1m\u001b[1;3mAnswer: 4616.003460207612\u001b[0m\n",
      "Thought:\u001b[32;1m\u001b[1;3mThe calculation has been completed and the result is approximately 4616.003460207612. This is the final answer. \n",
      "Final Answer: 4616.003460207612\u001b[0m\n",
      "\n",
      "\u001b[1m> Finished chain.\u001b[0m\n"
     ]
    },
    {
     "data": {
      "text/plain": [
       "'4616.003460207612'"
      ]
     },
     "execution_count": 7,
     "metadata": {},
     "output_type": "execute_result"
    }
   ],
   "source": [
    "question = \"\"\"\n",
    "How much is (3 * 334 / 17 + 9) ** 2?\n",
    "\"\"\"\n",
    "agent.run(question)"
   ]
  },
  {
   "cell_type": "code",
   "execution_count": 8,
   "metadata": {},
   "outputs": [
    {
     "name": "stdout",
     "output_type": "stream",
     "text": [
      "\n",
      "\n",
      "\u001b[1m> Entering new AgentExecutor chain...\u001b[0m\n",
      "\u001b[32;1m\u001b[1;3mThought: I need to find information about the 2023 Spanish general election. The best tool for this is Wikipedia.\n",
      "Action:\n",
      "```\n",
      "{\n",
      "  \"action\": \"Wikipedia\",\n",
      "  \"action_input\": \"2023 Spanish general election\"\n",
      "}\n",
      "```\u001b[0m\n",
      "Observation: \u001b[33;1m\u001b[1;3mPage: 2023 Spanish general election\n",
      "Summary: The 2023 Spanish general election was held on Sunday, 23 July 2023, to elect the 15th Cortes Generales of the Kingdom of Spain. All 350 seats in the Congress of Deputies were up for election, as well as 208 of 265 seats in the Senate.\n",
      "The second government of Pedro Sánchez formed after the November 2019 Spanish general election consisted of a left-wing coalition between the Spanish Socialist Workers' Party (PSOE) and Unidas Podemos, the country's first such nationwide government since the times of the Second Spanish Republic. The government's tenure was quickly overshadowed by the outbreak of the COVID-19 pandemic in March 2020, along with its political and economic consequences. These consequences included the COVID-19 recession resulting from the extensive COVID-19 lockdowns implemented to curb the spread of the SARS-CoV-2 virus, as well as the economic impact of the Russian invasion of Ukraine.\n",
      "On the right side of the political spectrum, the People's Party (PP) underwent a leadership change at the 20th National Congress of the PP in February 2022, following an internal push by Galician and Madrilenian presidents, Alberto Núñez Feijóo and Isabel Díaz Ayuso, to remove party leader Pablo Casado. Since Feijóo's accession, the PP led opinion polls and finished first in the regional and local elections of 28 May 2023. Far-right Vox has been open to support the PP in a hung parliament in exchange for government participation and programatic concessions. The liberal Citizens party, once a leading force but having lost most of its support since 2019, decided not to run in this election, focusing its efforts on the 2024 European Parliament election instead.Despite speculation about an early election, Pedro Sánchez, the incumbent prime minister of Spain, consistently expressed his intention to complete the legislature as scheduled in 2023. He had initially set a tentative election date for December 2023, near the conclusion of the Spanish presidency of the Council of the European Union. The poor results of the left-wing bloc in the May 2023 regional and local elections, with losses to the PP and Vox in all but three regions, led to a surprise early dissolution of Parliament in what was described as a gamble by Sánchez to wrong-foot the opposition.In the closest election since 1996, the PP saw the biggest increase in support and secured 137 seats in the Congress, but fell short of expectations which had placed it at around 150 to 160 seats. The PSOE placed second and overperformed polls by improving upon previous results, gaining almost 1 million votes and scoring its best result since 2008 in terms of votes and vote share. Vox saw a decrease in its popular vote and seats, while Sumar won 31 seats in the Congress, a decrease in the popular vote and seats of its constituent parties. Neither bloc achieved a majority and, despite losses among Catalan independence parties, the balance of power was held by the Together for Catalonia (Junts) party of former Catalan president and fugitive Carles Puigdemont. In the case a government is not formed, a repeat election is likely.\n",
      "\n",
      "\n",
      "\n",
      "Page: Opinion polling for the 2023 Spanish general election\n",
      "Summary: In the run up to the 2023 Spanish general election, various organisations carried out opinion polling to gauge voting intention in Spain during the term of the 14th Cortes Generales. Results of such polls are displayed in this article. The date range for these opinion polls is from the previous general election, held on 10 November 2019, to the day the next election was held, on 23 July 2023.\n",
      "Voting intention estimates refer mainly to a hypothetical Congress of Deputies election. Polls are listed in reverse chronological order, showing the most recent first and using the dates when the survey fieldwork was done, as opposed to the date of publication. Where the fieldwork dates are unknown, the date of publication is given instead. The highest percentage fig\u001b[0m\n",
      "Thought:\u001b[32;1m\u001b[1;3mThe Wikipedia page for the 2023 Spanish general election provides the information needed to answer the question. The People's Party (PP) won the most seats in the election, securing 137 seats in the Congress. However, they did not achieve a majority. The Spanish Socialist Workers' Party (PSOE) placed second and overperformed polls by improving upon previous results. \n",
      "Final Answer: The People's Party (PP) won the most seats in the 2023 Spanish general election.\u001b[0m\n",
      "\n",
      "\u001b[1m> Finished chain.\u001b[0m\n"
     ]
    }
   ],
   "source": [
    "question = \"\"\"\n",
    "The 2023 Spanish general election was held on Sunday, 23 July 2023.\n",
    "Which party won the most seats?\n",
    "\"\"\"\n",
    "result = agent(question) "
   ]
  },
  {
   "cell_type": "code",
   "execution_count": 9,
   "metadata": {},
   "outputs": [
    {
     "name": "stdout",
     "output_type": "stream",
     "text": [
      "\n",
      "\n",
      "\u001b[1m> Entering new AgentExecutor chain...\u001b[0m\n",
      "\u001b[32;1m\u001b[1;3mThought: I need to find the latest financial news about Microsoft. I can use the yahoo_finance_news tool for this.\n",
      "Action:\n",
      "```\n",
      "{\n",
      "  \"action\": \"yahoo_finance_news\",\n",
      "  \"action_input\": \"MSFT\"\n",
      "}\n",
      "```\u001b[0m\n",
      "Observation: \u001b[38;5;200m\u001b[1;3mWhy Amazon Stock Dropped on Tuesday\n",
      "Shares of Amazon.com (NASDAQ: AMZN) slid 3% through 12:30 p.m. ET on Tuesday after Reuters -- in an exclusive report -- warned that British regulators may launch an antimonopoly investigation into the company's dominance of the cloud computing marketplacej.  Microsoft (NASDAQ: MSFT) -- also reported to be part of the probe -- saw its shares slide a similar 2.5%.  As Reuters reports, the British media regulator \"Ofcom\" (short for the Office of Communications) has actually been looking into Amazon's and Microsoft's dominance in cloud computing since April -- but is now preparing to issue an official report on Thursday.\u001b[0m\n",
      "Thought:\u001b[32;1m\u001b[1;3mThe latest news indicates that Microsoft's stocks have slid by 2.5% due to a potential antimonopoly investigation into the company's dominance of the cloud computing marketplace by British regulators. This investigation also involves Amazon and has been ongoing since April, with an official report expected to be issued on Thursday. \n",
      "Final Answer: Microsoft's stocks have dropped by 2.5% today due to a potential antimonopoly investigation by British regulators into the company's dominance in the cloud computing market.\u001b[0m\n",
      "\n",
      "\u001b[1m> Finished chain.\u001b[0m\n"
     ]
    },
    {
     "data": {
      "text/plain": [
       "\"Microsoft's stocks have dropped by 2.5% today due to a potential antimonopoly investigation by British regulators into the company's dominance in the cloud computing market.\""
      ]
     },
     "execution_count": 9,
     "metadata": {},
     "output_type": "execute_result"
    }
   ],
   "source": [
    "question = \"\"\"\n",
    "What happens today with Microsoft stocks?\n",
    "\"\"\"\n",
    "\n",
    "agent.run(question)"
   ]
  },
  {
   "cell_type": "code",
   "execution_count": null,
   "metadata": {},
   "outputs": [],
   "source": []
  }
 ],
 "metadata": {
  "kernelspec": {
   "display_name": "tmp-venv",
   "language": "python",
   "name": "python3"
  },
  "language_info": {
   "codemirror_mode": {
    "name": "ipython",
    "version": 3
   },
   "file_extension": ".py",
   "mimetype": "text/x-python",
   "name": "python",
   "nbconvert_exporter": "python",
   "pygments_lexer": "ipython3",
   "version": "3.11.1"
  },
  "orig_nbformat": 4
 },
 "nbformat": 4,
 "nbformat_minor": 2
}
