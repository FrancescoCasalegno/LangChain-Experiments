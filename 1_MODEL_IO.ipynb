{
 "cells": [
  {
   "cell_type": "markdown",
   "metadata": {},
   "source": [
    "# Model I/O\n",
    "\n",
    "LangChain provides the building blocks to interface with Language Models.\n",
    "\n",
    "- **Language Models** — Make calls to language models through common interfaces.\n",
    "- **Prompts** — Templatize, dynamically select, and manage model inputs\n",
    "- **Output parsers** — Extract structured information from model outputs\n"
   ]
  },
  {
   "cell_type": "markdown",
   "metadata": {},
   "source": [
    "## Language Models\n",
    "\n",
    "- Make calls to language models through common interfaces.\n",
    "- LangChain supports two types of model interfaces.\n",
    "- **LLMs** \n",
    "    - Raw text completion models\n",
    "    - Take input  of type `str` and give output of  type `str`.\n",
    "- **Chat Models** \n",
    "    - Also based on LLMs but more tuned for having conversations between \"Human\" and \"AI\"\n",
    "    - Take input of type `list[ChatMessage]` and give output of type `ChatMessage`\n",
    "- However, both interfaces implement two base methods that allow to work seamlessly with either approach, so don't worry too much about it!\n",
    "    - `model.predict()` — takes a `str` and returns a `str`\n",
    "    - `model.predict_messages()` — takes a `list[ChatMessage]` and returns a `list[ChatMessage]`\n",
    "    - `model.__call__()` — is the default method, it will use `predict()` or `predict_messages()` based on whether it's a LLM or a Chat Model.\n",
    "- API is completely agnostic to the actual LLM used in the background (e.g. Claude, GPT-4, ...)\n",
    "  - No need to know every different model API!"
   ]
  },
  {
   "cell_type": "code",
   "execution_count": 1,
   "metadata": {},
   "outputs": [],
   "source": [
    "from dotenv import load_dotenv\n",
    "import os\n",
    "from pprint import pprint"
   ]
  },
  {
   "cell_type": "code",
   "execution_count": 2,
   "metadata": {},
   "outputs": [],
   "source": [
    "# 1. Copy .env.example file as .env: `cp .env.example .env`\n",
    "# 2. Open .env file and set all the env variables\n",
    "load_dotenv(\".env\")\n",
    "OPENAI_KEY = os.getenv(\"OPENAI_KEY\")\n",
    "assert OPENAI_KEY, \"Please set your OPENAI_KEY environment variable.\""
   ]
  },
  {
   "cell_type": "code",
   "execution_count": 3,
   "metadata": {},
   "outputs": [],
   "source": [
    "from langchain.chat_models import ChatOpenAI\n",
    "from langchain.schema import (\n",
    "    AIMessage,\n",
    "    HumanMessage,\n",
    "    SystemMessage\n",
    ")\n",
    "\n",
    "# The Chat Model\n",
    "chat_model = ChatOpenAI(\n",
    "    openai_api_key=OPENAI_KEY,\n",
    "    model_name=\"gpt-4\",\n",
    "    temperature=0,\n",
    "    model_kwargs={\"top_p\":1},\n",
    ")"
   ]
  },
  {
   "cell_type": "code",
   "execution_count": 4,
   "metadata": {},
   "outputs": [
    {
     "name": "stdout",
     "output_type": "stream",
     "text": [
      "<class 'langchain.schema.messages.AIMessage'>\n",
      "{'additional_kwargs': {},\n",
      " 'content': \"J'aime la programmation.\",\n",
      " 'example': False,\n",
      " 'is_chunk': False,\n",
      " 'type': 'ai'}\n"
     ]
    }
   ],
   "source": [
    "messages = [\n",
    "    SystemMessage(content=\"You are a helpful assistant that translates English to French.\"),\n",
    "    HumanMessage(content=\"I love programming.\")\n",
    "]\n",
    "\n",
    "response = chat_model(messages)\n",
    "\n",
    "print(type(response))\n",
    "pprint(vars(response))"
   ]
  },
  {
   "cell_type": "markdown",
   "metadata": {},
   "source": [
    "## Prompts\n",
    "\n",
    "- A prompt is a set of instructions or input provided to guide the model's response.\n",
    "- A prompt can also help a model understand the context and generate relevant output.\n",
    "- E.g. can guide towards different tasks:\n",
    "  - answering questions\n",
    "  - completing sentences\n",
    "  - engaging in a conversation\n",
    "  - ...\n",
    "- Different classes and functions to help construct and work with prompts.\n",
    "  - **Prompt templates**: Parametrized model inputs\n",
    "  - **Example selectors**: Dynamically select examples to include in prompts, based on \n",
    "- **Prompt templates** are pre-defined recipes for generating prompts\n",
    "  - e.g. include instructions, few-shots examples, ... for a given task\n",
    "  - allow to re-use prompts across different calls!\n",
    "  - fully model agnostic"
   ]
  },
  {
   "cell_type": "code",
   "execution_count": 5,
   "metadata": {},
   "outputs": [],
   "source": [
    "from langchain.prompts import ChatPromptTemplate, FewShotChatMessagePromptTemplate"
   ]
  },
  {
   "cell_type": "code",
   "execution_count": 6,
   "metadata": {},
   "outputs": [],
   "source": [
    "template_str = \"\"\"\n",
    "Given the following 'Context' and 'Question', provide your 'Answer' as a\n",
    "substring of the 'Context' or '[Unanswerable]' if the 'Question' cannot be answered\n",
    "from the given 'Context'.\n",
    "\n",
    "Follow closely the instructions, the output should be nothing different from what is asked.\n",
    "\n",
    "'Context'\n",
    "```\n",
    "{context}\n",
    "```\n",
    "\n",
    "'Question'\n",
    "```\n",
    "{question}\n",
    "```\n",
    "\"\"\""
   ]
  },
  {
   "cell_type": "code",
   "execution_count": 7,
   "metadata": {},
   "outputs": [
    {
     "name": "stdout",
     "output_type": "stream",
     "text": [
      "<class 'langchain.prompts.chat.ChatPromptTemplate'>\n",
      "{'input_variables': ['context', 'question'],\n",
      " 'messages': [HumanMessagePromptTemplate(prompt=PromptTemplate(input_variables=['context', 'question'], template=\"\\nGiven the following 'Context' and 'Question', provide your 'Answer' as a\\nsubstring of the 'Context' or '[Unanswerable]' if the 'Question' cannot be answered\\nfrom the given 'Context'.\\n\\nFollow closely the instructions, the output should be nothing different from what is asked.\\n\\n'Context'\\n```\\n{context}\\n```\\n\\n'Question'\\n```\\n{question}\\n```\\n\"))],\n",
      " 'output_parser': None,\n",
      " 'partial_variables': {}}\n"
     ]
    }
   ],
   "source": [
    "my_prompt_template = ChatPromptTemplate.from_template(template_str)\n",
    "\n",
    "print(type(my_prompt_template))\n",
    "pprint(vars(my_prompt_template))"
   ]
  },
  {
   "cell_type": "code",
   "execution_count": 8,
   "metadata": {},
   "outputs": [
    {
     "name": "stdout",
     "output_type": "stream",
     "text": [
      "<class 'list'>\n",
      "<class 'langchain.schema.messages.HumanMessage'>\n",
      "\n",
      "Given the following 'Context' and 'Question', provide your 'Answer' as a\n",
      "substring of the 'Context' or '[Unanswerable]' if the 'Question' cannot be answered\n",
      "from the given 'Context'.\n",
      "\n",
      "Follow closely the instructions, the output should be nothing different from what is asked.\n",
      "\n",
      "'Context'\n",
      "```\n",
      "\n",
      "Switzerland, is geographically divided among the Swiss Plateau, the Alps and the Jura;\n",
      "most of the country's population of 9 million are concentrated on the plateau,\n",
      "which hosts the largest cities and economic centres, including Zürich, Geneva and Basel.\n",
      "\n",
      "```\n",
      "\n",
      "'Question'\n",
      "```\n",
      "What is the capital of Switzerland?\n",
      "```\n",
      "\n"
     ]
    }
   ],
   "source": [
    "my_context = \"\"\"\n",
    "Switzerland, is geographically divided among the Swiss Plateau, the Alps and the Jura;\n",
    "most of the country's population of 9 million are concentrated on the plateau,\n",
    "which hosts the largest cities and economic centres, including Zürich, Geneva and Basel.\n",
    "\"\"\"\n",
    "\n",
    "my_question = \"What is the capital of Switzerland?\"\n",
    "\n",
    "my_messages = my_prompt_template.format_messages(\n",
    "context=my_context,\n",
    "question=my_question,\n",
    ")\n",
    "\n",
    "print(type(my_messages))\n",
    "print(type(my_messages[0]))\n",
    "print(my_messages[0].content)"
   ]
  },
  {
   "cell_type": "code",
   "execution_count": 9,
   "metadata": {},
   "outputs": [
    {
     "name": "stdout",
     "output_type": "stream",
     "text": [
      "<class 'langchain.schema.messages.AIMessage'>\n",
      "[Unanswerable]\n"
     ]
    }
   ],
   "source": [
    "my_response = chat_model(my_messages)\n",
    "\n",
    "print(type(my_response))\n",
    "print(my_response.content)"
   ]
  },
  {
   "cell_type": "code",
   "execution_count": 10,
   "metadata": {},
   "outputs": [
    {
     "name": "stdout",
     "output_type": "stream",
     "text": [
      "Human: This is a terrible idea!\n",
      "AI: A\n",
      "Human: I think we should evaluate this carefully.\n",
      "AI: B\n",
      "Human: This is the best idea ever!\n",
      "AI: C\n",
      "Human: Awesome, let's do that!\n",
      "AI: C\n",
      "Human: How could you even think of that???!!\n",
      "AI: A\n",
      "Human: I'm not sure about that.\n",
      "AI: B\n"
     ]
    }
   ],
   "source": [
    "# Let's now do something with few-shot prompts.\n",
    "examples = [\n",
    "    {\"input\": \"This is a terrible idea!\", \"output\": \"A\"}, # class A = negative\n",
    "    {\"input\": \"I think we should evaluate this carefully.\", \"output\": \"B\"}, # class B = neutral\n",
    "    {\"input\": \"This is the best idea ever!\", \"output\": \"C\"}, # class C = positive\n",
    "    {\"input\": \"Awesome, let's do that!\", \"output\": \"C\"}, # class C = positive\n",
    "    {\"input\": \"How could you even think of that???!!\", \"output\": \"A\"}, # class A = negative\n",
    "    {\"input\": \"I'm not sure about that.\", \"output\": \"B\"}, # class B = neutral\n",
    "]\n",
    "\n",
    "# This is a prompt template used to format each individual example.\n",
    "example_prompt = ChatPromptTemplate.from_messages(\n",
    "    [\n",
    "        (\"human\", \"{input}\"),\n",
    "        (\"ai\", \"{output}\"),\n",
    "    ]\n",
    ")\n",
    "few_shot_prompt = FewShotChatMessagePromptTemplate(\n",
    "    example_prompt=example_prompt,\n",
    "    examples=examples,\n",
    ")\n",
    "\n",
    "print(few_shot_prompt.format())"
   ]
  },
  {
   "cell_type": "code",
   "execution_count": 11,
   "metadata": {},
   "outputs": [
    {
     "name": "stdout",
     "output_type": "stream",
     "text": [
      "prompt=PromptTemplate(input_variables=[], template='You must perform text classification. Given a sentence, predict its class as A, B, or C.')\n"
     ]
    }
   ],
   "source": [
    "final_prompt = ChatPromptTemplate.from_messages(\n",
    "    [\n",
    "        (\"system\", \"You must perform text classification. Given a sentence, predict its class as A, B, or C.\"),\n",
    "        few_shot_prompt,\n",
    "        (\"human\", \"{input}\"),\n",
    "    ]\n",
    ")\n",
    "\n",
    "print(final_prompt[0])"
   ]
  },
  {
   "cell_type": "code",
   "execution_count": 12,
   "metadata": {},
   "outputs": [
    {
     "name": "stdout",
     "output_type": "stream",
     "text": [
      "[SystemMessage(content='You must perform text classification. Given a sentence, predict its class as A, B, or C.'), HumanMessage(content='This is a terrible idea!'), AIMessage(content='A'), HumanMessage(content='I think we should evaluate this carefully.'), AIMessage(content='B'), HumanMessage(content='This is the best idea ever!'), AIMessage(content='C'), HumanMessage(content=\"Awesome, let's do that!\"), AIMessage(content='C'), HumanMessage(content='How could you even think of that???!!'), AIMessage(content='A'), HumanMessage(content=\"I'm not sure about that.\"), AIMessage(content='B'), HumanMessage(content=\"You're so sweet, thanks for that <3\")]\n"
     ]
    }
   ],
   "source": [
    "my_prompt = final_prompt.format_messages(input=\"You're so sweet, thanks for that <3\")\n",
    "print(my_prompt)"
   ]
  },
  {
   "cell_type": "code",
   "execution_count": 13,
   "metadata": {},
   "outputs": [
    {
     "data": {
      "text/plain": [
       "AIMessage(content='C')"
      ]
     },
     "execution_count": 13,
     "metadata": {},
     "output_type": "execute_result"
    }
   ],
   "source": [
    "chat_model(my_prompt)"
   ]
  },
  {
   "cell_type": "code",
   "execution_count": 14,
   "metadata": {},
   "outputs": [
    {
     "name": "stdout",
     "output_type": "stream",
     "text": [
      "content='C'\n",
      "content='A'\n",
      "content='B'\n"
     ]
    }
   ],
   "source": [
    "# The same, but using chains -- notice how the prompt flows through!\n",
    "chain = final_prompt | chat_model\n",
    "\n",
    "print(chain.invoke({\"input\": \"You're so sweet, thanks for that <3\"}))\n",
    "print(chain.invoke({\"input\": \"I hate you, you're so mean!\"}))\n",
    "print(chain.invoke({\"input\": \"Mhe, not sure how to feel about that.\"}))"
   ]
  },
  {
   "cell_type": "markdown",
   "metadata": {},
   "source": [
    "## Output parsers\n",
    "\n",
    "- The output of a language model is just a `str`. Even if the output of the model is e.g. `\"3.14159\"`, it's still just a `str` not a `float`.\n",
    "- But often we want to extract structured information, rather than pure text.\n",
    "- Output parsers help extracting structured information.\n",
    "- These parsers must implement two methods.\n",
    "  - `get_format_instructions()` — Instructions on how the LLM output should be formatted.\n",
    "  - `parse(text: str)` — Take a `str` (assumed to be the output of a LLM) and parses it into some structure.\n",
    "- There's also a third optional method.\n",
    "  - `parse_with_prompt(completion: str, prompt: PromptValue)` — Take a `str` (assumed to be the output of a LLM) and a prompt (assumed to be the prompt which produced that output) and parses it into some structure.\n",
    "- Into which structure can we parse the output of a LLM? Anything!\n",
    "  - JSON, XML, datetime, enum, ...\n",
    "- What is really cool is that Output Parsers can also be used to help you generate the formatting instructions to add to the Prompt!"
   ]
  },
  {
   "cell_type": "code",
   "execution_count": 15,
   "metadata": {},
   "outputs": [],
   "source": [
    "import json\n",
    "\n",
    "from langchain.output_parsers import PydanticOutputParser\n",
    "from langchain.prompts import PromptTemplate\n",
    "from langchain.pydantic_v1 import BaseModel, Field, validator"
   ]
  },
  {
   "cell_type": "code",
   "execution_count": 16,
   "metadata": {},
   "outputs": [],
   "source": [
    "# We will use Pydantic parser: this parser allows to specify an arbitrary JSON schema and query LLMs for JSON outputs that conform to that schema.\n",
    "class MyOutput(BaseModel):\n",
    "    answer: str = Field(description=\"The substring of the Context that answers the Question, or '' if the Question cannot be answered from the Context.\")\n",
    "    is_answerable: bool = Field(description=\"Whether the Question can be answered from the Context.\")"
   ]
  },
  {
   "cell_type": "code",
   "execution_count": 17,
   "metadata": {},
   "outputs": [],
   "source": [
    "output_parser = PydanticOutputParser(pydantic_object=MyOutput)\n"
   ]
  },
  {
   "cell_type": "code",
   "execution_count": 18,
   "metadata": {},
   "outputs": [
    {
     "name": "stdout",
     "output_type": "stream",
     "text": [
      "The output should be formatted as a JSON instance that conforms to the JSON schema below.\n",
      "\n",
      "As an example, for the schema {\"properties\": {\"foo\": {\"title\": \"Foo\", \"description\": \"a list of strings\", \"type\": \"array\", \"items\": {\"type\": \"string\"}}}, \"required\": [\"foo\"]}\n",
      "the object {\"foo\": [\"bar\", \"baz\"]} is a well-formatted instance of the schema. The object {\"properties\": {\"foo\": [\"bar\", \"baz\"]}} is not well-formatted.\n",
      "\n",
      "Here is the output schema:\n",
      "```\n",
      "{\"properties\": {\"answer\": {\"title\": \"Answer\", \"description\": \"The substring of the Context that answers the Question, or '' if the Question cannot be answered from the Context.\", \"type\": \"string\"}, \"is_answerable\": {\"title\": \"Is Answerable\", \"description\": \"Whether the Question can be answered from the Context.\", \"type\": \"boolean\"}}, \"required\": [\"answer\", \"is_answerable\"]}\n",
      "```\n"
     ]
    }
   ],
   "source": [
    "print(output_parser.get_format_instructions())"
   ]
  },
  {
   "cell_type": "code",
   "execution_count": 19,
   "metadata": {},
   "outputs": [],
   "source": [
    "  template_str = \"\"\"\n",
    "  For the following 'Context' and 'Question', extract the following information:\n",
    "\n",
    "  - answer: The substring of the Context that answers the Question, or '' if the Question cannot be answered from the Context.\n",
    "  - is_answerable: Whether the Question can be answered from the Context.\n",
    "\n",
    "  'Context'\n",
    "  ```\n",
    "  {context}\n",
    "  ```\n",
    "\n",
    "  'Question'\n",
    "  ```\n",
    "  {question}\n",
    "  ```\n",
    "\n",
    "  {format_instructions}\n",
    "  \"\"\""
   ]
  },
  {
   "cell_type": "code",
   "execution_count": 20,
   "metadata": {},
   "outputs": [],
   "source": [
    "format_instructions = output_parser.get_format_instructions()\n",
    "\n",
    "context_1 = \"\"\"\n",
    "Switzerland, is geographically divided among the Swiss Plateau, the Alps and the Jura;\n",
    "most of the country's population of 9 million are concentrated on the plateau,\n",
    "which hosts the largest cities and economic centres, including Zürich, Geneva and Basel.\n",
    "\"\"\"\n",
    "\n",
    "context_2 = \"\"\"\n",
    "Bern or Berne is the de facto capital of Switzerland, referred to by the Swiss as their \"federal \n",
    "city\". With a population of about 144,000, Bern is the fifth-most populous city in Switzerland.\n",
    "\"\"\"\n",
    "\n",
    "question = \"What is the capital of Switzerland?\"\n",
    "\n"
   ]
  },
  {
   "cell_type": "code",
   "execution_count": 21,
   "metadata": {},
   "outputs": [],
   "source": [
    "prompt_template = ChatPromptTemplate.from_template(template=template_str)\n",
    "\n",
    "responses = []\n",
    "for i, context in enumerate((context_1, context_2), start=1):\n",
    "    messages = prompt_template.format_messages(\n",
    "        context=context,\n",
    "        question=question,\n",
    "        format_instructions=format_instructions,\n",
    "    )\n",
    "    response = chat_model(messages)\n",
    "    responses.append(response.content)"
   ]
  },
  {
   "cell_type": "code",
   "execution_count": 22,
   "metadata": {},
   "outputs": [
    {
     "name": "stdout",
     "output_type": "stream",
     "text": [
      "['{\"answer\": \"\", \"is_answerable\": false}', '{\"answer\": \"Bern or Berne\", \"is_answerable\": true}']\n"
     ]
    }
   ],
   "source": [
    "print(responses)"
   ]
  },
  {
   "cell_type": "code",
   "execution_count": 23,
   "metadata": {},
   "outputs": [
    {
     "name": "stdout",
     "output_type": "stream",
     "text": [
      "[MyOutput(answer='', is_answerable=False), MyOutput(answer='Bern or Berne', is_answerable=True)]\n"
     ]
    }
   ],
   "source": [
    "parsed_responses = [output_parser.parse(response) for response in responses]\n",
    "print(parsed_responses)"
   ]
  },
  {
   "cell_type": "code",
   "execution_count": 24,
   "metadata": {},
   "outputs": [
    {
     "name": "stdout",
     "output_type": "stream",
     "text": [
      "['{\"answer\": \"\", \"is_answerable\": false}', '{\"answer\": \"Bern or Berne\", \"is_answerable\": true}']\n"
     ]
    }
   ],
   "source": [
    "json_responses = [r.json() for r in parsed_responses]\n",
    "print(json_responses)"
   ]
  }
 ],
 "metadata": {
  "kernelspec": {
   "display_name": "tmp-venv",
   "language": "python",
   "name": "python3"
  },
  "language_info": {
   "codemirror_mode": {
    "name": "ipython",
    "version": 3
   },
   "file_extension": ".py",
   "mimetype": "text/x-python",
   "name": "python",
   "nbconvert_exporter": "python",
   "pygments_lexer": "ipython3",
   "version": "3.11.1"
  },
  "orig_nbformat": 4
 },
 "nbformat": 4,
 "nbformat_minor": 2
}
